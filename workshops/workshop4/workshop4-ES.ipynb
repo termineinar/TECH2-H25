{
 "cells": [
  {
   "cell_type": "markdown",
   "metadata": {},
   "source": [
    "# Exercise 1: House price levels and dispersion\n",
    "\n",
    "For this exercise, we're using data on around 3,000 observations of house prices and house characteristics from Ames, a small city in Iowa.\n",
    "\n",
    "1.  Load the Ames housing data set from `ames_houses.csv` located in the `data/` folder.\n",
    "\n",
    "    To familiarize yourself with the data, report the columns present in the DataFrame and \n",
    "    then restrict the data to the columns `SalePrice` (price in thousands of US dollars) \n",
    "    and `Neighborhood` (abbreviated name of the neighborhood).\n",
    "    \n",
    "    Check that there are no observations with missing values in the final data set.\n",
    "\n",
    "2.  Compute the average house price (column `SalePrice`) by neighborhood (column `Neighborhood`). List the three most expensive neighborhoods, for example by using [`sort_values()`](https://pandas.pydata.org/docs/reference/api/pandas.DataFrame.sort_values.html).\n",
    "\n",
    "    Create a bar chart showing the average sale price for all neighborhoods in descending order.\n",
    "\n",
    "    *Hint:* You can create the bar chart by either using pandas's \n",
    "    [`DataFrame.plot.bar()`](https://pandas.pydata.org/docs/reference/api/pandas.DataFrame.plot.bar.html)\n",
    "    or Matplotlib's\n",
    "    [`bar()`](https://matplotlib.org/stable/api/_as_gen/matplotlib.pyplot.bar.html).\n",
    "\n",
    "3.  You want to quantify the price dispersion in each neighborhood. To this end, compute the standard deviation of the sale price by neighborhood using \n",
    "    [`std()`](https://pandas.pydata.org/docs/reference/api/pandas.DataFrame.std.html). Which are the three neighborhoods with the most dispersed prices?\n",
    "\n",
    "4.  Create a scatter plot with the average house price on the $x$-axis and the standard deviation on the $y$-axis.\n",
    "    Is there a relationship between the average house prices and their dispersion within neighborhood?\n",
    "\n",
    "    *Hint:* You can create the scatter plot by either using pandas's \n",
    "    [`DataFrame.plot.scatter()`](https://pandas.pydata.org/docs/reference/api/pandas.DataFrame.plot.scatter.html)\n",
    "    or Matplotlib's \n",
    "    [`scatter()`](https://matplotlib.org/stable/api/_as_gen/matplotlib.pyplot.scatter.html)."
   ]
  },
  {
   "cell_type": "code",
   "execution_count": null,
   "metadata": {},
   "outputs": [
    {
     "data": {
      "text/html": [
       "<div>\n",
       "<style scoped>\n",
       "    .dataframe tbody tr th:only-of-type {\n",
       "        vertical-align: middle;\n",
       "    }\n",
       "\n",
       "    .dataframe tbody tr th {\n",
       "        vertical-align: top;\n",
       "    }\n",
       "\n",
       "    .dataframe thead th {\n",
       "        text-align: right;\n",
       "    }\n",
       "</style>\n",
       "<table border=\"1\" class=\"dataframe\">\n",
       "  <thead>\n",
       "    <tr style=\"text-align: right;\">\n",
       "      <th></th>\n",
       "      <th>LotArea</th>\n",
       "      <th>Neighborhood</th>\n",
       "      <th>OverallQuality</th>\n",
       "      <th>OverallCondition</th>\n",
       "      <th>YearBuilt</th>\n",
       "      <th>YearRemodeled</th>\n",
       "      <th>BuildingType</th>\n",
       "      <th>CentralAir</th>\n",
       "      <th>LivingArea</th>\n",
       "      <th>Bathrooms</th>\n",
       "      <th>Bedrooms</th>\n",
       "      <th>Fireplaces</th>\n",
       "      <th>SalePrice</th>\n",
       "      <th>YearSold</th>\n",
       "      <th>MonthSold</th>\n",
       "      <th>HasGarage</th>\n",
       "    </tr>\n",
       "  </thead>\n",
       "  <tbody>\n",
       "    <tr>\n",
       "      <th>0</th>\n",
       "      <td>2951.2</td>\n",
       "      <td>NAmes</td>\n",
       "      <td>6</td>\n",
       "      <td>5</td>\n",
       "      <td>1960</td>\n",
       "      <td>1960</td>\n",
       "      <td>Single-family</td>\n",
       "      <td>Y</td>\n",
       "      <td>153.8</td>\n",
       "      <td>1</td>\n",
       "      <td>3</td>\n",
       "      <td>2</td>\n",
       "      <td>215.0</td>\n",
       "      <td>2010</td>\n",
       "      <td>5</td>\n",
       "      <td>1</td>\n",
       "    </tr>\n",
       "    <tr>\n",
       "      <th>1</th>\n",
       "      <td>1079.6</td>\n",
       "      <td>NAmes</td>\n",
       "      <td>5</td>\n",
       "      <td>6</td>\n",
       "      <td>1961</td>\n",
       "      <td>1961</td>\n",
       "      <td>Single-family</td>\n",
       "      <td>Y</td>\n",
       "      <td>83.2</td>\n",
       "      <td>1</td>\n",
       "      <td>2</td>\n",
       "      <td>0</td>\n",
       "      <td>105.0</td>\n",
       "      <td>2010</td>\n",
       "      <td>6</td>\n",
       "      <td>1</td>\n",
       "    </tr>\n",
       "    <tr>\n",
       "      <th>2</th>\n",
       "      <td>1325.3</td>\n",
       "      <td>NAmes</td>\n",
       "      <td>6</td>\n",
       "      <td>6</td>\n",
       "      <td>1958</td>\n",
       "      <td>1958</td>\n",
       "      <td>Single-family</td>\n",
       "      <td>Y</td>\n",
       "      <td>123.5</td>\n",
       "      <td>1</td>\n",
       "      <td>3</td>\n",
       "      <td>0</td>\n",
       "      <td>172.0</td>\n",
       "      <td>2010</td>\n",
       "      <td>6</td>\n",
       "      <td>1</td>\n",
       "    </tr>\n",
       "    <tr>\n",
       "      <th>3</th>\n",
       "      <td>1036.7</td>\n",
       "      <td>NAmes</td>\n",
       "      <td>7</td>\n",
       "      <td>5</td>\n",
       "      <td>1968</td>\n",
       "      <td>1968</td>\n",
       "      <td>Single-family</td>\n",
       "      <td>Y</td>\n",
       "      <td>196.0</td>\n",
       "      <td>2</td>\n",
       "      <td>3</td>\n",
       "      <td>2</td>\n",
       "      <td>244.0</td>\n",
       "      <td>2010</td>\n",
       "      <td>4</td>\n",
       "      <td>1</td>\n",
       "    </tr>\n",
       "    <tr>\n",
       "      <th>4</th>\n",
       "      <td>1284.7</td>\n",
       "      <td>Gilbert</td>\n",
       "      <td>5</td>\n",
       "      <td>5</td>\n",
       "      <td>1997</td>\n",
       "      <td>1998</td>\n",
       "      <td>Single-family</td>\n",
       "      <td>Y</td>\n",
       "      <td>151.3</td>\n",
       "      <td>2</td>\n",
       "      <td>3</td>\n",
       "      <td>1</td>\n",
       "      <td>189.9</td>\n",
       "      <td>2010</td>\n",
       "      <td>3</td>\n",
       "      <td>1</td>\n",
       "    </tr>\n",
       "    <tr>\n",
       "      <th>...</th>\n",
       "      <td>...</td>\n",
       "      <td>...</td>\n",
       "      <td>...</td>\n",
       "      <td>...</td>\n",
       "      <td>...</td>\n",
       "      <td>...</td>\n",
       "      <td>...</td>\n",
       "      <td>...</td>\n",
       "      <td>...</td>\n",
       "      <td>...</td>\n",
       "      <td>...</td>\n",
       "      <td>...</td>\n",
       "      <td>...</td>\n",
       "      <td>...</td>\n",
       "      <td>...</td>\n",
       "      <td>...</td>\n",
       "    </tr>\n",
       "    <tr>\n",
       "      <th>2925</th>\n",
       "      <td>737.3</td>\n",
       "      <td>Mitchel</td>\n",
       "      <td>6</td>\n",
       "      <td>6</td>\n",
       "      <td>1984</td>\n",
       "      <td>1984</td>\n",
       "      <td>Single-family</td>\n",
       "      <td>Y</td>\n",
       "      <td>93.2</td>\n",
       "      <td>1</td>\n",
       "      <td>3</td>\n",
       "      <td>0</td>\n",
       "      <td>142.5</td>\n",
       "      <td>2006</td>\n",
       "      <td>3</td>\n",
       "      <td>1</td>\n",
       "    </tr>\n",
       "    <tr>\n",
       "      <th>2926</th>\n",
       "      <td>825.4</td>\n",
       "      <td>Mitchel</td>\n",
       "      <td>5</td>\n",
       "      <td>5</td>\n",
       "      <td>1983</td>\n",
       "      <td>1983</td>\n",
       "      <td>Single-family</td>\n",
       "      <td>Y</td>\n",
       "      <td>83.8</td>\n",
       "      <td>1</td>\n",
       "      <td>2</td>\n",
       "      <td>0</td>\n",
       "      <td>131.0</td>\n",
       "      <td>2006</td>\n",
       "      <td>6</td>\n",
       "      <td>1</td>\n",
       "    </tr>\n",
       "    <tr>\n",
       "      <th>2927</th>\n",
       "      <td>969.9</td>\n",
       "      <td>Mitchel</td>\n",
       "      <td>5</td>\n",
       "      <td>5</td>\n",
       "      <td>1992</td>\n",
       "      <td>1992</td>\n",
       "      <td>Single-family</td>\n",
       "      <td>Y</td>\n",
       "      <td>90.1</td>\n",
       "      <td>1</td>\n",
       "      <td>3</td>\n",
       "      <td>0</td>\n",
       "      <td>132.0</td>\n",
       "      <td>2006</td>\n",
       "      <td>7</td>\n",
       "      <td>0</td>\n",
       "    </tr>\n",
       "    <tr>\n",
       "      <th>2928</th>\n",
       "      <td>929.9</td>\n",
       "      <td>Mitchel</td>\n",
       "      <td>5</td>\n",
       "      <td>5</td>\n",
       "      <td>1974</td>\n",
       "      <td>1975</td>\n",
       "      <td>Single-family</td>\n",
       "      <td>Y</td>\n",
       "      <td>129.0</td>\n",
       "      <td>1</td>\n",
       "      <td>2</td>\n",
       "      <td>1</td>\n",
       "      <td>170.0</td>\n",
       "      <td>2006</td>\n",
       "      <td>4</td>\n",
       "      <td>1</td>\n",
       "    </tr>\n",
       "    <tr>\n",
       "      <th>2929</th>\n",
       "      <td>894.3</td>\n",
       "      <td>Mitchel</td>\n",
       "      <td>7</td>\n",
       "      <td>5</td>\n",
       "      <td>1993</td>\n",
       "      <td>1994</td>\n",
       "      <td>Single-family</td>\n",
       "      <td>Y</td>\n",
       "      <td>185.8</td>\n",
       "      <td>2</td>\n",
       "      <td>3</td>\n",
       "      <td>1</td>\n",
       "      <td>188.0</td>\n",
       "      <td>2006</td>\n",
       "      <td>11</td>\n",
       "      <td>1</td>\n",
       "    </tr>\n",
       "  </tbody>\n",
       "</table>\n",
       "<p>2930 rows × 16 columns</p>\n",
       "</div>"
      ],
      "text/plain": [
       "      LotArea Neighborhood  OverallQuality  OverallCondition  YearBuilt  \\\n",
       "0      2951.2        NAmes               6                 5       1960   \n",
       "1      1079.6        NAmes               5                 6       1961   \n",
       "2      1325.3        NAmes               6                 6       1958   \n",
       "3      1036.7        NAmes               7                 5       1968   \n",
       "4      1284.7      Gilbert               5                 5       1997   \n",
       "...       ...          ...             ...               ...        ...   \n",
       "2925    737.3      Mitchel               6                 6       1984   \n",
       "2926    825.4      Mitchel               5                 5       1983   \n",
       "2927    969.9      Mitchel               5                 5       1992   \n",
       "2928    929.9      Mitchel               5                 5       1974   \n",
       "2929    894.3      Mitchel               7                 5       1993   \n",
       "\n",
       "      YearRemodeled   BuildingType CentralAir  LivingArea  Bathrooms  \\\n",
       "0              1960  Single-family          Y       153.8          1   \n",
       "1              1961  Single-family          Y        83.2          1   \n",
       "2              1958  Single-family          Y       123.5          1   \n",
       "3              1968  Single-family          Y       196.0          2   \n",
       "4              1998  Single-family          Y       151.3          2   \n",
       "...             ...            ...        ...         ...        ...   \n",
       "2925           1984  Single-family          Y        93.2          1   \n",
       "2926           1983  Single-family          Y        83.8          1   \n",
       "2927           1992  Single-family          Y        90.1          1   \n",
       "2928           1975  Single-family          Y       129.0          1   \n",
       "2929           1994  Single-family          Y       185.8          2   \n",
       "\n",
       "      Bedrooms  Fireplaces  SalePrice  YearSold  MonthSold  HasGarage  \n",
       "0            3           2      215.0      2010          5          1  \n",
       "1            2           0      105.0      2010          6          1  \n",
       "2            3           0      172.0      2010          6          1  \n",
       "3            3           2      244.0      2010          4          1  \n",
       "4            3           1      189.9      2010          3          1  \n",
       "...        ...         ...        ...       ...        ...        ...  \n",
       "2925         3           0      142.5      2006          3          1  \n",
       "2926         2           0      131.0      2006          6          1  \n",
       "2927         3           0      132.0      2006          7          0  \n",
       "2928         2           1      170.0      2006          4          1  \n",
       "2929         3           1      188.0      2006         11          1  \n",
       "\n",
       "[2930 rows x 16 columns]"
      ]
     },
     "execution_count": 1,
     "metadata": {},
     "output_type": "execute_result"
    }
   ],
   "source": [
    "import pandas as pd\n",
    "datapath = \"../../data/ames_houses.csv\"\n",
    "df = pd.read_csv(datapath)\n",
    "df # shows that it is 16 columns\n",
    "\n"
   ]
  },
  {
   "cell_type": "code",
   "execution_count": null,
   "metadata": {},
   "outputs": [
    {
     "data": {
      "text/plain": [
       "SalePrice       0\n",
       "Neighborhood    0\n",
       "dtype: int64"
      ]
     },
     "execution_count": 12,
     "metadata": {},
     "output_type": "execute_result"
    }
   ],
   "source": [
    "#restrict the columns to salesprice and neighborhood\n",
    "df = df[[\"SalePrice\",\"Neighborhood\"]]\n",
    "\n",
    "#chech if there are any missing observations\n",
    "df.isna().sum() #checks all columns for missing values\n",
    "\n"
   ]
  },
  {
   "cell_type": "code",
   "execution_count": 50,
   "metadata": {},
   "outputs": [
    {
     "data": {
      "text/plain": [
       "Neighborhood\n",
       "NoRidge    330.3\n",
       "StoneBr    324.2\n",
       "NridgHt    322.0\n",
       "Name: SalePrice, dtype: float64"
      ]
     },
     "execution_count": 50,
     "metadata": {},
     "output_type": "execute_result"
    }
   ],
   "source": [
    "#average housing price by neigborhood\n",
    "df.groupby(\"Neighborhood\")[\"SalePrice\"].mean()\n",
    "sales_group = df.groupby(\"Neighborhood\")[\"SalePrice\"].mean().sort_values(ascending=False) #sorting from most expensive to least\n",
    "df.groupby(\"Neighborhood\")[\"SalePrice\"].mean().sort_values(ascending=False).head(3).round(1) #listing the 3 most expensive and rounding to 1 decimal"
   ]
  },
  {
   "cell_type": "code",
   "execution_count": null,
   "metadata": {},
   "outputs": [
    {
     "data": {
      "text/plain": [
       "Text(0.5, 1.0, 'Average house price by neighborhood')"
      ]
     },
     "execution_count": 52,
     "metadata": {},
     "output_type": "execute_result"
    },
    {
     "data": {
      "image/png": "[encoded data removed]",
      "text/plain": [
       "<Figure size 1000x400 with 1 Axes>"
      ]
     },
     "metadata": {},
     "output_type": "display_data"
    }
   ],
   "source": [
    "import matplotlib.pyplot as plt\n",
    "\n",
    "plt.figure(figsize=(10, 4)) #has to be above plt.bar\n",
    "plt.bar(sales_group.index, sales_group.values)\n",
    "# Rotate x-axis labels by 90 degrees to avoid overlap\n",
    "plt.tick_params(axis=\"x\", rotation=90)\n",
    "plt.ylabel(\"Thousands of USD\")\n",
    "plt.title(\"Average house price by neighborhood\")"
   ]
  },
  {
   "cell_type": "code",
   "execution_count": 53,
   "metadata": {},
   "outputs": [
    {
     "data": {
      "text/plain": [
       "Neighborhood\n",
       "StoneBr    119.3\n",
       "NoRidge    101.4\n",
       "NridgHt     95.9\n",
       "Name: SalePrice, dtype: float64"
      ]
     },
     "execution_count": 53,
     "metadata": {},
     "output_type": "execute_result"
    }
   ],
   "source": [
    "#dispare prices: caluclate standard deviation in each neighborhood\n",
    "df.groupby(\"Neighborhood\")[\"SalePrice\"].std().sort_values(ascending=False)\n",
    "df.groupby(\"Neighborhood\")[\"SalePrice\"].std().sort_values(ascending=False).head(3).round(1) #the 3 with highest deviations in prices\n"
   ]
  },
  {
   "cell_type": "code",
   "execution_count": null,
   "metadata": {},
   "outputs": [
    {
     "data": {
      "text/plain": [
       "<matplotlib.collections.PathCollection at 0x1682d7890>"
      ]
     },
     "execution_count": 38,
     "metadata": {},
     "output_type": "execute_result"
    },
    {
     "data": {
      "image/png": "[encoded data removed]",
      "text/plain": [
       "<Figure size 640x480 with 1 Axes>"
      ]
     },
     "metadata": {},
     "output_type": "display_data"
    }
   ],
   "source": [
    "#my way (not preffered)\n",
    "#scatterplot with avg house price as x-values and standard deviation as y-values\n",
    "avg_houseprice = df.groupby(\"Neighborhood\")[\"SalePrice\"].mean()\n",
    "standard_deviation = df.groupby(\"Neighborhood\")[\"SalePrice\"].std()\n",
    "plt.scatter(avg_houseprice,standard_deviation)\n"
   ]
  },
  {
   "cell_type": "code",
   "execution_count": null,
   "metadata": {},
   "outputs": [
    {
     "data": {
      "text/plain": [
       "<Axes: title={'center': 'Average house price vs. standard deviation by neighborhood'}, xlabel='Average house price (thousand USD)', ylabel='Standard deviation (thousand USD)'>"
      ]
     },
     "execution_count": 62,
     "metadata": {},
     "output_type": "execute_result"
    },
    {
     "data": {
      "image/png": "[encoded data removed]",
      "text/plain": [
       "<Figure size 500x300 with 1 Axes>"
      ]
     },
     "metadata": {},
     "output_type": "display_data"
    }
   ],
   "source": [
    "#richards way: (better)\n",
    "group = df.groupby(\"Neighborhood\")[\"SalePrice\"].agg([\"mean\",\"std\"])\n",
    "\n",
    "group.plot.scatter(x=\"mean\",\n",
    "                   y=\"std\",\n",
    "                   title=\"Average house price vs. standard deviation by neighborhood\",\n",
    "                   xlabel=\"Average house price (thousand USD)\",\n",
    "                   ylabel=\"Standard deviation (thousand USD)\",\n",
    "                   figsize=(5, 3)\n",
    "              )\n"
   ]
  },
  {
   "cell_type": "markdown",
   "metadata": {},
   "source": [
    "***\n",
    "# Exercise 2: Determinants of house prices\n",
    "\n",
    "For this exercise, we're using data on around 3,000 observations of house prices and house characteristics from Ames, a small city in Iowa,\n",
    "to understand how house prices vary with selected house characteristics.\n",
    "\n",
    "1.  Load the Ames housing data set from `ames_houses.csv` located in the `data/` folder.\n",
    "\n",
    "    Keep only the columns `SalePrice` (price in thousands of US dollars), `LotArea` (lot area in m²), `YearBuilt`, and `Bedrooms` (number of bedrooms).\n",
    "\n",
    "    Restrict your data set to houses with one or more bedrooms and a lot area of at least 100m².\n",
    "\n",
    "2.  Compute the average year in which a house was built (using the column `YearBuilt`). \n",
    "\n",
    "    Create a new column `New` which takes on the value of 1 if the house was built \n",
    "    after the average year of construction in the sample (_\"new\"_), and 0 otherwise (_\"old\"_). \n",
    "\n",
    "    What is the average year of construction within these two categories?\n",
    "\n",
    "3.  Create a new column `Rooms` which categorizes the number of `Bedrooms` into three groups: 1, 2, and 3 or more. You can create these categories using boolean indexing, [`np.where()`](https://numpy.org/doc/2.0/reference/generated/numpy.where.html), pandas's [`where()`](https://pandas.pydata.org/docs/reference/api/pandas.DataFrame.where.html), or some other way.\n",
    "\n",
    "4.  Compute the mean sale price within each group formed by `New` and `Rooms` (for a total of 6 different categories).\n",
    "\n",
    "    What is the average price difference between an old house with 1 bedroom and a new house with 3+ bedrooms?\n",
    "\n",
    "5.  Create a figure with two subplots arranged in two columns. The left column should contain a bar chart showing\n",
    "    the average house price by the number of bed rooms (1, 2, 3+) for _old_ houses, whereas the \n",
    "    right column should show the corresponding bars for _new_ houses."
   ]
  },
  {
   "cell_type": "code",
   "execution_count": null,
   "metadata": {},
   "outputs": [
    {
     "data": {
      "text/plain": [
       "np.float64(1971.3302532511977)"
      ]
     },
     "execution_count": 73,
     "metadata": {},
     "output_type": "execute_result"
    }
   ],
   "source": [
    "import pandas as pd\n",
    "datapath = \"../../data/ames_houses.csv\"\n",
    "df = pd.read_csv(datapath)\n",
    "df = df[[\"SalePrice\",\"LotArea\",\"YearBuilt\",\"Bedrooms\"]] #keep only these columns\n",
    "df = df.query(\"Bedrooms>=1 & LotArea>=100\") #only keep the rows with these conditions met\n",
    "df[\"YearBuilt\"].mean() \n"
   ]
  },
  {
   "cell_type": "code",
   "execution_count": 79,
   "metadata": {},
   "outputs": [
    {
     "data": {
      "text/html": [
       "<div>\n",
       "<style scoped>\n",
       "    .dataframe tbody tr th:only-of-type {\n",
       "        vertical-align: middle;\n",
       "    }\n",
       "\n",
       "    .dataframe tbody tr th {\n",
       "        vertical-align: top;\n",
       "    }\n",
       "\n",
       "    .dataframe thead th {\n",
       "        text-align: right;\n",
       "    }\n",
       "</style>\n",
       "<table border=\"1\" class=\"dataframe\">\n",
       "  <thead>\n",
       "    <tr style=\"text-align: right;\">\n",
       "      <th></th>\n",
       "      <th>SalePrice</th>\n",
       "      <th>LotArea</th>\n",
       "      <th>YearBuilt</th>\n",
       "      <th>Bedrooms</th>\n",
       "      <th>New</th>\n",
       "    </tr>\n",
       "  </thead>\n",
       "  <tbody>\n",
       "    <tr>\n",
       "      <th>0</th>\n",
       "      <td>215.0</td>\n",
       "      <td>2951.2</td>\n",
       "      <td>1960</td>\n",
       "      <td>3</td>\n",
       "      <td>0</td>\n",
       "    </tr>\n",
       "    <tr>\n",
       "      <th>1</th>\n",
       "      <td>105.0</td>\n",
       "      <td>1079.6</td>\n",
       "      <td>1961</td>\n",
       "      <td>2</td>\n",
       "      <td>0</td>\n",
       "    </tr>\n",
       "    <tr>\n",
       "      <th>2</th>\n",
       "      <td>172.0</td>\n",
       "      <td>1325.3</td>\n",
       "      <td>1958</td>\n",
       "      <td>3</td>\n",
       "      <td>0</td>\n",
       "    </tr>\n",
       "    <tr>\n",
       "      <th>3</th>\n",
       "      <td>244.0</td>\n",
       "      <td>1036.7</td>\n",
       "      <td>1968</td>\n",
       "      <td>3</td>\n",
       "      <td>0</td>\n",
       "    </tr>\n",
       "    <tr>\n",
       "      <th>4</th>\n",
       "      <td>189.9</td>\n",
       "      <td>1284.7</td>\n",
       "      <td>1997</td>\n",
       "      <td>3</td>\n",
       "      <td>1</td>\n",
       "    </tr>\n",
       "    <tr>\n",
       "      <th>...</th>\n",
       "      <td>...</td>\n",
       "      <td>...</td>\n",
       "      <td>...</td>\n",
       "      <td>...</td>\n",
       "      <td>...</td>\n",
       "    </tr>\n",
       "    <tr>\n",
       "      <th>2925</th>\n",
       "      <td>142.5</td>\n",
       "      <td>737.3</td>\n",
       "      <td>1984</td>\n",
       "      <td>3</td>\n",
       "      <td>1</td>\n",
       "    </tr>\n",
       "    <tr>\n",
       "      <th>2926</th>\n",
       "      <td>131.0</td>\n",
       "      <td>825.4</td>\n",
       "      <td>1983</td>\n",
       "      <td>2</td>\n",
       "      <td>1</td>\n",
       "    </tr>\n",
       "    <tr>\n",
       "      <th>2927</th>\n",
       "      <td>132.0</td>\n",
       "      <td>969.9</td>\n",
       "      <td>1992</td>\n",
       "      <td>3</td>\n",
       "      <td>1</td>\n",
       "    </tr>\n",
       "    <tr>\n",
       "      <th>2928</th>\n",
       "      <td>170.0</td>\n",
       "      <td>929.9</td>\n",
       "      <td>1974</td>\n",
       "      <td>2</td>\n",
       "      <td>1</td>\n",
       "    </tr>\n",
       "    <tr>\n",
       "      <th>2929</th>\n",
       "      <td>188.0</td>\n",
       "      <td>894.3</td>\n",
       "      <td>1993</td>\n",
       "      <td>3</td>\n",
       "      <td>1</td>\n",
       "    </tr>\n",
       "  </tbody>\n",
       "</table>\n",
       "<p>2922 rows × 5 columns</p>\n",
       "</div>"
      ],
      "text/plain": [
       "      SalePrice  LotArea  YearBuilt  Bedrooms  New\n",
       "0         215.0   2951.2       1960         3    0\n",
       "1         105.0   1079.6       1961         2    0\n",
       "2         172.0   1325.3       1958         3    0\n",
       "3         244.0   1036.7       1968         3    0\n",
       "4         189.9   1284.7       1997         3    1\n",
       "...         ...      ...        ...       ...  ...\n",
       "2925      142.5    737.3       1984         3    1\n",
       "2926      131.0    825.4       1983         2    1\n",
       "2927      132.0    969.9       1992         3    1\n",
       "2928      170.0    929.9       1974         2    1\n",
       "2929      188.0    894.3       1993         3    1\n",
       "\n",
       "[2922 rows x 5 columns]"
      ]
     },
     "execution_count": 79,
     "metadata": {},
     "output_type": "execute_result"
    }
   ],
   "source": [
    "#creating a new column where 1 equals build after the avg constucion year and 0 if before\n",
    "df[\"New\"] = df[\"YearBuilt\"] > df[\"YearBuilt\"].mean() #creates a new column where if it is build after the mean it is True\n",
    "df[\"New\"] = df[\"New\"].astype(int) #turns True into 1 and False into 0\n",
    "df\n"
   ]
  },
  {
   "cell_type": "code",
   "execution_count": null,
   "metadata": {},
   "outputs": [
    {
     "data": {
      "text/plain": [
       "New\n",
       "0    1945.149148\n",
       "1    1995.678336\n",
       "Name: YearBuilt, dtype: float64"
      ]
     },
     "execution_count": 80,
     "metadata": {},
     "output_type": "execute_result"
    }
   ],
   "source": [
    "#finds the avrage time houses after and before the mean are built\n",
    "df.groupby(\"New\")[\"YearBuilt\"].mean()"
   ]
  },
  {
   "cell_type": "code",
   "execution_count": null,
   "metadata": {},
   "outputs": [
    {
     "data": {
      "text/html": [
       "<div>\n",
       "<style scoped>\n",
       "    .dataframe tbody tr th:only-of-type {\n",
       "        vertical-align: middle;\n",
       "    }\n",
       "\n",
       "    .dataframe tbody tr th {\n",
       "        vertical-align: top;\n",
       "    }\n",
       "\n",
       "    .dataframe thead th {\n",
       "        text-align: right;\n",
       "    }\n",
       "</style>\n",
       "<table border=\"1\" class=\"dataframe\">\n",
       "  <thead>\n",
       "    <tr style=\"text-align: right;\">\n",
       "      <th></th>\n",
       "      <th>SalePrice</th>\n",
       "      <th>LotArea</th>\n",
       "      <th>YearBuilt</th>\n",
       "      <th>Bedrooms</th>\n",
       "      <th>New</th>\n",
       "      <th>Rooms</th>\n",
       "    </tr>\n",
       "  </thead>\n",
       "  <tbody>\n",
       "    <tr>\n",
       "      <th>1</th>\n",
       "      <td>105.0</td>\n",
       "      <td>1079.6</td>\n",
       "      <td>1961</td>\n",
       "      <td>2</td>\n",
       "      <td>0</td>\n",
       "      <td>2</td>\n",
       "    </tr>\n",
       "    <tr>\n",
       "      <th>6</th>\n",
       "      <td>213.5</td>\n",
       "      <td>457.0</td>\n",
       "      <td>2001</td>\n",
       "      <td>2</td>\n",
       "      <td>1</td>\n",
       "      <td>2</td>\n",
       "    </tr>\n",
       "    <tr>\n",
       "      <th>7</th>\n",
       "      <td>191.5</td>\n",
       "      <td>464.9</td>\n",
       "      <td>1992</td>\n",
       "      <td>2</td>\n",
       "      <td>1</td>\n",
       "      <td>2</td>\n",
       "    </tr>\n",
       "    <tr>\n",
       "      <th>8</th>\n",
       "      <td>236.5</td>\n",
       "      <td>500.6</td>\n",
       "      <td>1995</td>\n",
       "      <td>2</td>\n",
       "      <td>1</td>\n",
       "      <td>2</td>\n",
       "    </tr>\n",
       "    <tr>\n",
       "      <th>13</th>\n",
       "      <td>171.5</td>\n",
       "      <td>945.3</td>\n",
       "      <td>1990</td>\n",
       "      <td>2</td>\n",
       "      <td>1</td>\n",
       "      <td>2</td>\n",
       "    </tr>\n",
       "    <tr>\n",
       "      <th>...</th>\n",
       "      <td>...</td>\n",
       "      <td>...</td>\n",
       "      <td>...</td>\n",
       "      <td>...</td>\n",
       "      <td>...</td>\n",
       "      <td>...</td>\n",
       "    </tr>\n",
       "    <tr>\n",
       "      <th>2904</th>\n",
       "      <td>215.0</td>\n",
       "      <td>652.1</td>\n",
       "      <td>1997</td>\n",
       "      <td>2</td>\n",
       "      <td>1</td>\n",
       "      <td>2</td>\n",
       "    </tr>\n",
       "    <tr>\n",
       "      <th>2905</th>\n",
       "      <td>164.0</td>\n",
       "      <td>418.0</td>\n",
       "      <td>1998</td>\n",
       "      <td>2</td>\n",
       "      <td>1</td>\n",
       "      <td>2</td>\n",
       "    </tr>\n",
       "    <tr>\n",
       "      <th>2906</th>\n",
       "      <td>153.5</td>\n",
       "      <td>418.0</td>\n",
       "      <td>1998</td>\n",
       "      <td>2</td>\n",
       "      <td>1</td>\n",
       "      <td>2</td>\n",
       "    </tr>\n",
       "    <tr>\n",
       "      <th>2926</th>\n",
       "      <td>131.0</td>\n",
       "      <td>825.4</td>\n",
       "      <td>1983</td>\n",
       "      <td>2</td>\n",
       "      <td>1</td>\n",
       "      <td>2</td>\n",
       "    </tr>\n",
       "    <tr>\n",
       "      <th>2928</th>\n",
       "      <td>170.0</td>\n",
       "      <td>929.9</td>\n",
       "      <td>1974</td>\n",
       "      <td>2</td>\n",
       "      <td>1</td>\n",
       "      <td>2</td>\n",
       "    </tr>\n",
       "  </tbody>\n",
       "</table>\n",
       "<p>743 rows × 6 columns</p>\n",
       "</div>"
      ],
      "text/plain": [
       "      SalePrice  LotArea  YearBuilt  Bedrooms  New Rooms\n",
       "1         105.0   1079.6       1961         2    0     2\n",
       "6         213.5    457.0       2001         2    1     2\n",
       "7         191.5    464.9       1992         2    1     2\n",
       "8         236.5    500.6       1995         2    1     2\n",
       "13        171.5    945.3       1990         2    1     2\n",
       "...         ...      ...        ...       ...  ...   ...\n",
       "2904      215.0    652.1       1997         2    1     2\n",
       "2905      164.0    418.0       1998         2    1     2\n",
       "2906      153.5    418.0       1998         2    1     2\n",
       "2926      131.0    825.4       1983         2    1     2\n",
       "2928      170.0    929.9       1974         2    1     2\n",
       "\n",
       "[743 rows x 6 columns]"
      ]
     },
     "execution_count": 90,
     "metadata": {},
     "output_type": "execute_result"
    }
   ],
   "source": [
    "#New column Rooms, depending on 1, 2 or \"3 or more rooms\"\n",
    "#where()\n",
    "\n",
    "df[\"Rooms\"] = df[\"Bedrooms\"].where(df[\"Bedrooms\"]<= 2,\"3 or more\") #where(condition, other), meaning keep nubers as long as bedrooms <= 2 ..\n",
    "#.. if not replace it with \"3 or more\"\n",
    "df.query(\"Bedrooms ==2\")"
   ]
  },
  {
   "cell_type": "code",
   "execution_count": 103,
   "metadata": {},
   "outputs": [
    {
     "data": {
      "text/plain": [
       "New  Rooms    \n",
       "0    1            101.417949\n",
       "     2            117.512113\n",
       "     3 or more    146.528135\n",
       "1    1            226.610959\n",
       "     2            210.975211\n",
       "     3 or more    223.989411\n",
       "Name: SalePrice, dtype: float64"
      ]
     },
     "execution_count": 103,
     "metadata": {},
     "output_type": "execute_result"
    }
   ],
   "source": [
    "#mean sales price by new and rooms (6 different categories)\n",
    "mean_prices = df.groupby([\"New\", \"Rooms\"])[\"SalePrice\"].mean()\n",
    "mean_prices"
   ]
  },
  {
   "cell_type": "code",
   "execution_count": null,
   "metadata": {},
   "outputs": [
    {
     "data": {
      "text/plain": [
       "np.float64(122.5714619634509)"
      ]
     },
     "execution_count": 102,
     "metadata": {},
     "output_type": "execute_result"
    }
   ],
   "source": [
    "#avg price difference between old house with 1 bedroom and new house with \"3 or more\"\n",
    "diff = mean_prices.loc[1, \"3 or more\"] - mean_prices.loc[0, 1] # extracting 1 from colunm \"New\" and then \"3 or more\"\n",
    "diff\n"
   ]
  },
  {
   "cell_type": "markdown",
   "metadata": {},
   "source": [
    "***\n",
    "# Exercise 3: Inflation and unemployment in the US\n",
    "\n",
    "In this exercise, you'll be working with selected macroeconomic variables for the United States reported at monthly frequency obtained from [FRED](https://fred.stlouisfed.org/).\n",
    "The data set starts in 1948 and contains observations for a total of 864 months.\n",
    "\n",
    "1.  Load the data from the file `FRED_monthly.csv` located in the `data/FRED` folder. Print the first 10 observations to get an idea how the data looks like.\n",
    "    \n",
    "    Keep only the columns `Year`, `Month`, `CPI`, and `UNRATE`. Moreover, perform this analysis only on observations prior to 1970 and drop the rest.\n",
    "\n",
    "2.  The column `CPI` stores the consumer price index (CPI) for the US. You may be more familiar with the concept of inflation, which is the percent change of the CPI relative to the previous period. \n",
    "    Create a new column `Inflation` which contains the _annual_ inflation _in percent_ relative to the same month in the previous year by applying \n",
    "    [`pct_change()`](https://pandas.pydata.org/docs/reference/api/pandas.DataFrame.pct_change.html) to the column `CPI`.\n",
    "\n",
    "    *Hints:* \n",
    "    \n",
    "    -   Since this is monthly data, you need to pass the argument `periods=12` to `pct_change()` to get annual percent changes.\n",
    "    -   You need to multiply the values returned by `pct_change()` by 100 to get percent values.\n",
    "\n",
    "3.  Compute the average unemployment rate (column `UNRATE`) over the whole sample period. Create a new column `UNRATE_HIGH` that contains an indicator whenever the unemployment rate is above its average value (_\"high unemployment period\"_). \n",
    "    -   How many observations fall into the high- and the low-unemployment periods?\n",
    "    -   What is the average unemployment rate in the high- and low-unemployment periods?\n",
    "\n",
    "4.  Compute the average inflation rate for high- and low-unemployment periods. Is there any difference?\n",
    "\n",
    "    Visualize this relationship by creating a scatter plot with the unemployment rate on the $x$-axis and inflation on the $y$-axis, and assign different colors \n",
    "    to observations from the low and high unemployment periods.\n",
    "\n",
    "5.  Use [`resample()`](https://pandas.pydata.org/docs/reference/api/pandas.DataFrame.resample.html) to aggregate\n",
    "    the inflation data to annual frequency and compute the average inflation within each calendar year.\n",
    "\n",
    "    -   Report the three years with the highest inflation rates.\n",
    "    -   Create a plot that shows the average annual inflation over the sample period.\n",
    "\n",
    "    *Hint:* Use the resampling rule `'YE'` when calling `resample()`.\n"
   ]
  },
  {
   "cell_type": "code",
   "execution_count": 197,
   "metadata": {},
   "outputs": [
    {
     "data": {
      "text/html": [
       "<div>\n",
       "<style scoped>\n",
       "    .dataframe tbody tr th:only-of-type {\n",
       "        vertical-align: middle;\n",
       "    }\n",
       "\n",
       "    .dataframe tbody tr th {\n",
       "        vertical-align: top;\n",
       "    }\n",
       "\n",
       "    .dataframe thead th {\n",
       "        text-align: right;\n",
       "    }\n",
       "</style>\n",
       "<table border=\"1\" class=\"dataframe\">\n",
       "  <thead>\n",
       "    <tr style=\"text-align: right;\">\n",
       "      <th></th>\n",
       "      <th>Year</th>\n",
       "      <th>Month</th>\n",
       "      <th>CPI</th>\n",
       "      <th>UNRATE</th>\n",
       "    </tr>\n",
       "  </thead>\n",
       "  <tbody>\n",
       "    <tr>\n",
       "      <th>0</th>\n",
       "      <td>1948</td>\n",
       "      <td>1</td>\n",
       "      <td>23.7</td>\n",
       "      <td>3.4</td>\n",
       "    </tr>\n",
       "    <tr>\n",
       "      <th>1</th>\n",
       "      <td>1948</td>\n",
       "      <td>2</td>\n",
       "      <td>23.7</td>\n",
       "      <td>3.8</td>\n",
       "    </tr>\n",
       "    <tr>\n",
       "      <th>2</th>\n",
       "      <td>1948</td>\n",
       "      <td>3</td>\n",
       "      <td>23.5</td>\n",
       "      <td>4.0</td>\n",
       "    </tr>\n",
       "    <tr>\n",
       "      <th>3</th>\n",
       "      <td>1948</td>\n",
       "      <td>4</td>\n",
       "      <td>23.8</td>\n",
       "      <td>3.9</td>\n",
       "    </tr>\n",
       "    <tr>\n",
       "      <th>4</th>\n",
       "      <td>1948</td>\n",
       "      <td>5</td>\n",
       "      <td>24.0</td>\n",
       "      <td>3.5</td>\n",
       "    </tr>\n",
       "    <tr>\n",
       "      <th>...</th>\n",
       "      <td>...</td>\n",
       "      <td>...</td>\n",
       "      <td>...</td>\n",
       "      <td>...</td>\n",
       "    </tr>\n",
       "    <tr>\n",
       "      <th>259</th>\n",
       "      <td>1969</td>\n",
       "      <td>8</td>\n",
       "      <td>36.9</td>\n",
       "      <td>3.5</td>\n",
       "    </tr>\n",
       "    <tr>\n",
       "      <th>260</th>\n",
       "      <td>1969</td>\n",
       "      <td>9</td>\n",
       "      <td>37.1</td>\n",
       "      <td>3.7</td>\n",
       "    </tr>\n",
       "    <tr>\n",
       "      <th>261</th>\n",
       "      <td>1969</td>\n",
       "      <td>10</td>\n",
       "      <td>37.3</td>\n",
       "      <td>3.7</td>\n",
       "    </tr>\n",
       "    <tr>\n",
       "      <th>262</th>\n",
       "      <td>1969</td>\n",
       "      <td>11</td>\n",
       "      <td>37.5</td>\n",
       "      <td>3.5</td>\n",
       "    </tr>\n",
       "    <tr>\n",
       "      <th>263</th>\n",
       "      <td>1969</td>\n",
       "      <td>12</td>\n",
       "      <td>37.7</td>\n",
       "      <td>3.5</td>\n",
       "    </tr>\n",
       "  </tbody>\n",
       "</table>\n",
       "<p>264 rows × 4 columns</p>\n",
       "</div>"
      ],
      "text/plain": [
       "     Year  Month   CPI  UNRATE\n",
       "0    1948      1  23.7     3.4\n",
       "1    1948      2  23.7     3.8\n",
       "2    1948      3  23.5     4.0\n",
       "3    1948      4  23.8     3.9\n",
       "4    1948      5  24.0     3.5\n",
       "..    ...    ...   ...     ...\n",
       "259  1969      8  36.9     3.5\n",
       "260  1969      9  37.1     3.7\n",
       "261  1969     10  37.3     3.7\n",
       "262  1969     11  37.5     3.5\n",
       "263  1969     12  37.7     3.5\n",
       "\n",
       "[264 rows x 4 columns]"
      ]
     },
     "execution_count": 197,
     "metadata": {},
     "output_type": "execute_result"
    }
   ],
   "source": [
    "filepath = \"../../data/FRED/FRED_monthly.csv\"\n",
    "df = pd.read_csv(filepath)\n",
    "\n",
    "df = df[[\"Year\",\"Month\",\"CPI\",\"UNRATE\"]] #keeping only these columns\n",
    "df = df.query(\"Year < 1970\") #drops all rows after 1970\n",
    "df"
   ]
  },
  {
   "cell_type": "code",
   "execution_count": 201,
   "metadata": {},
   "outputs": [
    {
     "data": {
      "text/html": [
       "<div>\n",
       "<style scoped>\n",
       "    .dataframe tbody tr th:only-of-type {\n",
       "        vertical-align: middle;\n",
       "    }\n",
       "\n",
       "    .dataframe tbody tr th {\n",
       "        vertical-align: top;\n",
       "    }\n",
       "\n",
       "    .dataframe thead th {\n",
       "        text-align: right;\n",
       "    }\n",
       "</style>\n",
       "<table border=\"1\" class=\"dataframe\">\n",
       "  <thead>\n",
       "    <tr style=\"text-align: right;\">\n",
       "      <th></th>\n",
       "      <th>Month</th>\n",
       "      <th>CPI</th>\n",
       "      <th>UNRATE</th>\n",
       "      <th>Inflation</th>\n",
       "    </tr>\n",
       "    <tr>\n",
       "      <th>Year</th>\n",
       "      <th></th>\n",
       "      <th></th>\n",
       "      <th></th>\n",
       "      <th></th>\n",
       "    </tr>\n",
       "  </thead>\n",
       "  <tbody>\n",
       "    <tr>\n",
       "      <th>1948</th>\n",
       "      <td>1</td>\n",
       "      <td>23.7</td>\n",
       "      <td>3.4</td>\n",
       "      <td>NaN</td>\n",
       "    </tr>\n",
       "    <tr>\n",
       "      <th>1948</th>\n",
       "      <td>2</td>\n",
       "      <td>23.7</td>\n",
       "      <td>3.8</td>\n",
       "      <td>NaN</td>\n",
       "    </tr>\n",
       "    <tr>\n",
       "      <th>1948</th>\n",
       "      <td>3</td>\n",
       "      <td>23.5</td>\n",
       "      <td>4.0</td>\n",
       "      <td>NaN</td>\n",
       "    </tr>\n",
       "    <tr>\n",
       "      <th>1948</th>\n",
       "      <td>4</td>\n",
       "      <td>23.8</td>\n",
       "      <td>3.9</td>\n",
       "      <td>NaN</td>\n",
       "    </tr>\n",
       "    <tr>\n",
       "      <th>1948</th>\n",
       "      <td>5</td>\n",
       "      <td>24.0</td>\n",
       "      <td>3.5</td>\n",
       "      <td>NaN</td>\n",
       "    </tr>\n",
       "    <tr>\n",
       "      <th>...</th>\n",
       "      <td>...</td>\n",
       "      <td>...</td>\n",
       "      <td>...</td>\n",
       "      <td>...</td>\n",
       "    </tr>\n",
       "    <tr>\n",
       "      <th>1969</th>\n",
       "      <td>8</td>\n",
       "      <td>36.9</td>\n",
       "      <td>3.5</td>\n",
       "      <td>5.4</td>\n",
       "    </tr>\n",
       "    <tr>\n",
       "      <th>1969</th>\n",
       "      <td>9</td>\n",
       "      <td>37.1</td>\n",
       "      <td>3.7</td>\n",
       "      <td>5.7</td>\n",
       "    </tr>\n",
       "    <tr>\n",
       "      <th>1969</th>\n",
       "      <td>10</td>\n",
       "      <td>37.3</td>\n",
       "      <td>3.7</td>\n",
       "      <td>5.7</td>\n",
       "    </tr>\n",
       "    <tr>\n",
       "      <th>1969</th>\n",
       "      <td>11</td>\n",
       "      <td>37.5</td>\n",
       "      <td>3.5</td>\n",
       "      <td>5.9</td>\n",
       "    </tr>\n",
       "    <tr>\n",
       "      <th>1969</th>\n",
       "      <td>12</td>\n",
       "      <td>37.7</td>\n",
       "      <td>3.5</td>\n",
       "      <td>5.9</td>\n",
       "    </tr>\n",
       "  </tbody>\n",
       "</table>\n",
       "<p>264 rows × 4 columns</p>\n",
       "</div>"
      ],
      "text/plain": [
       "      Month   CPI  UNRATE  Inflation\n",
       "Year                                \n",
       "1948      1  23.7     3.4        NaN\n",
       "1948      2  23.7     3.8        NaN\n",
       "1948      3  23.5     4.0        NaN\n",
       "1948      4  23.8     3.9        NaN\n",
       "1948      5  24.0     3.5        NaN\n",
       "...     ...   ...     ...        ...\n",
       "1969      8  36.9     3.5        5.4\n",
       "1969      9  37.1     3.7        5.7\n",
       "1969     10  37.3     3.7        5.7\n",
       "1969     11  37.5     3.5        5.9\n",
       "1969     12  37.7     3.5        5.9\n",
       "\n",
       "[264 rows x 4 columns]"
      ]
     },
     "execution_count": 201,
     "metadata": {},
     "output_type": "execute_result"
    }
   ],
   "source": [
    "#creating a new column inflation and caltulating it by comparing the same month the previous year\n",
    "\n",
    "df[\"Inflation\"] = (df[\"CPI\"].pct_change(periods=12)*100).round(1) #compares CPI with CPI 12 months earlier\n",
    "df"
   ]
  },
  {
   "cell_type": "markdown",
   "metadata": {},
   "source": [
    "Compute the average unemployment rate (column `UNRATE`) over the whole sample period. Create a new column `UNRATE_HIGH` that contains an indicator whenever the unemployment rate is above its average value (_\"high unemployment period\"_). \n",
    "    -   How many observations fall into the high- and the low-unemployment periods?\n",
    "    -   What is the average unemployment rate in the high- and low-unemployment periods?"
   ]
  },
  {
   "cell_type": "code",
   "execution_count": 202,
   "metadata": {},
   "outputs": [
    {
     "data": {
      "text/plain": [
       "UNRATE_HIGH\n",
       "0    3.697872\n",
       "1    5.781301\n",
       "Name: UNRATE, dtype: float64"
      ]
     },
     "execution_count": 202,
     "metadata": {},
     "output_type": "execute_result"
    }
   ],
   "source": [
    "df[\"UNRATE_HIGH\"] = mean_unrate < df[\"UNRATE\"] #create new colum where if UNRATE is higher than mean_unrate it is displayed as True\n",
    "df[\"UNRATE_HIGH\"] = df[\"UNRATE_HIGH\"].astype(int) #1 for over and 0 for under\n",
    "df[\"UNRATE_HIGH\"].value_counts() #141 for below and 123 above mean\n",
    "df.groupby(\"UNRATE_HIGH\")[\"UNRATE\"].mean() #average UNRATE in high and low UNRATE periods"
   ]
  },
  {
   "cell_type": "code",
   "execution_count": 203,
   "metadata": {},
   "outputs": [
    {
     "name": "stdout",
     "output_type": "stream",
     "text": [
      "The inflation is much lower with high unemployment\n"
     ]
    }
   ],
   "source": [
    "#average inflation rate for high and low -unemployment periods\n",
    "df.groupby(\"UNRATE_HIGH\")[\"Inflation\"].mean() \n",
    "print(\"The inflation is much lower with high unemployment\") #when unemployment is high, demand is weak and prices dont rise so much\n",
    "#when unemployment is low, demand is strong and prices rise."
   ]
  },
  {
   "cell_type": "code",
   "execution_count": null,
   "metadata": {},
   "outputs": [
    {
     "data": {
      "text/plain": [
       "Text(0.5, 1.0, 'Unemployment vs. Inflation in the US')"
      ]
     },
     "execution_count": 143,
     "metadata": {},
     "output_type": "execute_result"
    },
    {
     "data": {
      "image/png": "[encoded data removed]",
      "text/plain": [
       "<Figure size 500x300 with 1 Axes>"
      ]
     },
     "metadata": {},
     "output_type": "display_data"
    }
   ],
   "source": [
    "#did not know how to do with two different colors\n",
    "#scatter plot: x:unrate, y:inflation, different colors for observations in high and low unrate periods\n",
    "plt.figure(figsize=(5, 3))  # set figure size first\n",
    "plt.scatter(df[\"UNRATE\"], df[\"Inflation\"])\n",
    "plt.xlabel(\"Unemployment Rate (%)\")\n",
    "plt.ylabel(\"Inflation Rate (%)\")\n",
    "plt.title(\"Unemployment vs. Inflation in the US\")"
   ]
  },
  {
   "cell_type": "code",
   "execution_count": null,
   "metadata": {},
   "outputs": [
    {
     "data": {
      "text/plain": [
       "Text(0.5, 1.0, 'Inflation vs. unemployment rate')"
      ]
     },
     "execution_count": 149,
     "metadata": {},
     "output_type": "execute_result"
    },
    {
     "data": {
      "image/png": "[encoded data removed]",
      "text/plain": [
       "<Figure size 500x300 with 1 Axes>"
      ]
     },
     "metadata": {},
     "output_type": "display_data"
    }
   ],
   "source": [
    "#Richards way:\n",
    "# Colors for low- and high-unemployment periods\n",
    "colors = np.array(['steelblue', 'darkorange'])\n",
    "\n",
    "plt.figure(figsize=(5, 3))\n",
    "\n",
    "# Specify colors based on the UNRATE_HIGH indicator\n",
    "plt.scatter(df[\"UNRATE\"], df[\"Inflation\"], color=colors[df[\"UNRATE_HIGH\"].astype(int)], s=10)\n",
    "plt.xlabel(\"Unemployment rate (%)\")\n",
    "plt.ylabel(\"Inflation (%)\")\n",
    "plt.title(\"Inflation vs. unemployment rate\")"
   ]
  },
  {
   "cell_type": "code",
   "execution_count": 157,
   "metadata": {},
   "outputs": [
    {
     "data": {
      "text/plain": [
       "<matplotlib.legend.Legend at 0x15a7e7610>"
      ]
     },
     "execution_count": 157,
     "metadata": {},
     "output_type": "execute_result"
    },
    {
     "data": {
      "image/png": "[encoded data removed]",
      "text/plain": [
       "<Figure size 500x300 with 1 Axes>"
      ]
     },
     "metadata": {},
     "output_type": "display_data"
    }
   ],
   "source": [
    "#or manually with two different plots in one figure\n",
    "import matplotlib.pyplot as plt\n",
    "\n",
    "df_hi = df.loc[df[\"UNRATE_HIGH\"] == 1]\n",
    "df_lo = df.loc[df[\"UNRATE_HIGH\"] == 0]\n",
    "\n",
    "plt.figure(figsize=(5, 3))\n",
    "plt.scatter(df_lo[\"UNRATE\"], df_lo[\"Inflation\"], label=\"Low unempl. rate\", color=\"steelblue\", s=10)\n",
    "plt.scatter(df_hi[\"UNRATE\"], df_hi[\"Inflation\"], label=\"High unempl. rate\", color=\"darkorange\", s=10)\n",
    "plt.xlabel(\"Unemployment rate (%)\")\n",
    "plt.ylabel(\"Inflation (%)\")\n",
    "plt.title(\"Inflation vs. unemployment rate\")\n",
    "plt.legend()"
   ]
  },
  {
   "cell_type": "markdown",
   "metadata": {},
   "source": [
    "5.  Use [`resample()`](https://pandas.pydata.org/docs/reference/api/pandas.DataFrame.resample.html) to aggregate\n",
    "    the inflation data to annual frequency and compute the average inflation within each calendar year.\n",
    "\n",
    "    -   Report the three years with the highest inflation rates.\n",
    "    -   Create a plot that shows the average annual inflation over the sample period.\n",
    "\n",
    "    *Hint:* Use the resampling rule `'YE'` when calling `resample()`."
   ]
  },
  {
   "cell_type": "code",
   "execution_count": null,
   "metadata": {},
   "outputs": [],
   "source": [
    "#set year as index\n",
    "df = df.set_index(\"Year\")\n"
   ]
  },
  {
   "cell_type": "code",
   "execution_count": null,
   "metadata": {},
   "outputs": [
    {
     "data": {
      "text/plain": [
       "Year\n",
       "1951    7.975000\n",
       "1969    5.425000\n",
       "1968    4.225000\n",
       "1957    3.408333\n",
       "1966    3.000000\n",
       "1967    2.766667\n",
       "1958    2.691667\n",
       "1952    2.275000\n",
       "1965    1.625000\n",
       "1960    1.508333\n",
       "Name: Inflation, dtype: float64"
      ]
     },
     "execution_count": 204,
     "metadata": {},
     "output_type": "execute_result"
    }
   ],
   "source": [
    "# Compute average inflation in each year\n",
    "infl_avg = df.groupby(\"Year\")[\"Inflation\"].mean()\n",
    "# Sort in descending order and print the three years with highest average inflation\n",
    "infl_avg.sort_values(ascending=False).head(3)\n"
   ]
  },
  {
   "cell_type": "code",
   "execution_count": 209,
   "metadata": {},
   "outputs": [
    {
     "data": {
      "text/plain": [
       "Text(0.5, 1.0, 'Average annual inflation')"
      ]
     },
     "execution_count": 209,
     "metadata": {},
     "output_type": "execute_result"
    },
    {
     "data": {
      "image/png": "[encoded data removed]",
      "text/plain": [
       "<Figure size 640x480 with 1 Axes>"
      ]
     },
     "metadata": {},
     "output_type": "display_data"
    }
   ],
   "source": [
    "plt.plot(infl_avg.index,infl_avg.values)\n",
    "plt.xlabel(\"Year\")\n",
    "plt.ylabel(\"Inflation (%)\")\n",
    "plt.title(\"Average annual inflation\")\n",
    "\n"
   ]
  },
  {
   "cell_type": "code",
   "execution_count": null,
   "metadata": {},
   "outputs": [],
   "source": []
  }
 ],
 "metadata": {
  "kernelspec": {
   "display_name": "TECH2",
   "language": "python",
   "name": "python3"
  },
  "language_info": {
   "codemirror_mode": {
    "name": "ipython",
    "version": 3
   },
   "file_extension": ".py",
   "mimetype": "text/x-python",
   "name": "python",
   "nbconvert_exporter": "python",
   "pygments_lexer": "ipython3",
   "version": "3.13.5"
  }
 },
 "nbformat": 4,
 "nbformat_minor": 2
}
