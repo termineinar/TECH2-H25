{
 "cells": [
  {
   "cell_type": "markdown",
   "id": "cc25c293",
   "metadata": {},
   "source": [
    "Series"
   ]
  },
  {
   "cell_type": "code",
   "execution_count": null,
   "id": "d505a141",
   "metadata": {},
   "outputs": [
    {
     "data": {
      "text/plain": [
       "d    200\n",
       "e    202\n",
       "dtype: int64"
      ]
     },
     "execution_count": 2,
     "metadata": {},
     "output_type": "execute_result"
    }
   ],
   "source": [
    "import pandas as pd\n",
    "\n",
    "data = [100, 102, 104, 200, 202]\n",
    "\n",
    "series = pd.Series(data, index=[\"a\", \"b\", \"c\", \"d\", \"e\"])\n",
    "\n",
    "series[series >= 200] #prints values greater than or equal to 200\n"
   ]
  },
  {
   "cell_type": "code",
   "execution_count": null,
   "id": "bd48eef6",
   "metadata": {},
   "outputs": [
    {
     "data": {
      "text/plain": [
       "Day 2    2100\n",
       "dtype: int64"
      ]
     },
     "execution_count": 23,
     "metadata": {},
     "output_type": "execute_result"
    }
   ],
   "source": [
    "import pandas as pd\n",
    "\n",
    "calories = {\"Day 1\": 1750, \"Day 2\": 2100, \"Day 3\": 1700}\n",
    "series = pd.Series(calories)\n",
    "\n",
    "#two ways to update the series\n",
    "series[\"Day 3\"] = 1800\n",
    "series.loc[\"Day 3\"] = 300\n",
    "\n",
    "#eaten more than 2000\n",
    "series[series > 2000]\n",
    "\n"
   ]
  },
  {
   "cell_type": "markdown",
   "id": "9e6b639c",
   "metadata": {},
   "source": [
    "DataFrames"
   ]
  },
  {
   "cell_type": "code",
   "execution_count": 121,
   "id": "84fa121e",
   "metadata": {},
   "outputs": [
    {
     "data": {
      "text/html": [
       "<div>\n",
       "<style scoped>\n",
       "    .dataframe tbody tr th:only-of-type {\n",
       "        vertical-align: middle;\n",
       "    }\n",
       "\n",
       "    .dataframe tbody tr th {\n",
       "        vertical-align: top;\n",
       "    }\n",
       "\n",
       "    .dataframe thead th {\n",
       "        text-align: right;\n",
       "    }\n",
       "</style>\n",
       "<table border=\"1\" class=\"dataframe\">\n",
       "  <thead>\n",
       "    <tr style=\"text-align: right;\">\n",
       "      <th></th>\n",
       "      <th>name</th>\n",
       "      <th>age</th>\n",
       "      <th>Adress</th>\n",
       "    </tr>\n",
       "  </thead>\n",
       "  <tbody>\n",
       "    <tr>\n",
       "      <th>Employee 1</th>\n",
       "      <td>spongebob</td>\n",
       "      <td>30</td>\n",
       "      <td>alabama</td>\n",
       "    </tr>\n",
       "    <tr>\n",
       "      <th>Employee 2</th>\n",
       "      <td>patric</td>\n",
       "      <td>35</td>\n",
       "      <td>new mexico</td>\n",
       "    </tr>\n",
       "    <tr>\n",
       "      <th>Employee 3</th>\n",
       "      <td>squidward</td>\n",
       "      <td>50</td>\n",
       "      <td>newkurky</td>\n",
       "    </tr>\n",
       "    <tr>\n",
       "      <th>Employee 4</th>\n",
       "      <td>sandy</td>\n",
       "      <td>30</td>\n",
       "      <td>pinaple</td>\n",
       "    </tr>\n",
       "    <tr>\n",
       "      <th>masterboy</th>\n",
       "      <td>crabbyboy</td>\n",
       "      <td>45</td>\n",
       "      <td>in the cage</td>\n",
       "    </tr>\n",
       "  </tbody>\n",
       "</table>\n",
       "</div>"
      ],
      "text/plain": [
       "                 name  age       Adress\n",
       "Employee 1  spongebob   30      alabama\n",
       "Employee 2     patric   35   new mexico\n",
       "Employee 3  squidward   50     newkurky\n",
       "Employee 4      sandy   30      pinaple\n",
       "masterboy   crabbyboy   45  in the cage"
      ]
     },
     "execution_count": 121,
     "metadata": {},
     "output_type": "execute_result"
    }
   ],
   "source": [
    "data = {\"name\": [\"spongebob\", \"patric\", \"squidward\"],\n",
    "        \"age\": [30,35,50]\n",
    "}\n",
    "\n",
    "df = pd.DataFrame(data, index=[f\"Employee {i}\" for i in range(1,4)]) #df\n",
    "df.loc[\"Employee 2\"] #look at employee 2\n",
    "df[\"Adress\"] = [\"alabama\", \"new mexico\", \"newkurky\"] # new column\n",
    "\n",
    "#new row\n",
    "new_rows = pd.DataFrame([{\"name\": \"sandy\", \"age\": 30, \"Adress\": \"pinaple\"},\n",
    "                        {\"name\": \"crabbyboy\", \"age\": 45, \"Adress\": \"in the cage\"}],\n",
    "                        index=[\"Employee 4\",\"masterboy\"])\n",
    "df = pd.concat([df, new_rows]) #concatination adding the two dataframes\n",
    "df"
   ]
  },
  {
   "cell_type": "markdown",
   "id": "d114966e",
   "metadata": {},
   "source": [
    "Importing"
   ]
  },
  {
   "cell_type": "code",
   "execution_count": 124,
   "id": "74f445d2",
   "metadata": {},
   "outputs": [
    {
     "data": {
      "text/html": [
       "<div>\n",
       "<style scoped>\n",
       "    .dataframe tbody tr th:only-of-type {\n",
       "        vertical-align: middle;\n",
       "    }\n",
       "\n",
       "    .dataframe tbody tr th {\n",
       "        vertical-align: top;\n",
       "    }\n",
       "\n",
       "    .dataframe thead th {\n",
       "        text-align: right;\n",
       "    }\n",
       "</style>\n",
       "<table border=\"1\" class=\"dataframe\">\n",
       "  <thead>\n",
       "    <tr style=\"text-align: right;\">\n",
       "      <th></th>\n",
       "      <th>Type1</th>\n",
       "      <th>Type2</th>\n",
       "      <th>Height</th>\n",
       "      <th>Weight</th>\n",
       "      <th>Legendary</th>\n",
       "    </tr>\n",
       "    <tr>\n",
       "      <th>Name</th>\n",
       "      <th></th>\n",
       "      <th></th>\n",
       "      <th></th>\n",
       "      <th></th>\n",
       "      <th></th>\n",
       "    </tr>\n",
       "  </thead>\n",
       "  <tbody>\n",
       "    <tr>\n",
       "      <th>Charizard</th>\n",
       "      <td>Fire</td>\n",
       "      <td>Flying</td>\n",
       "      <td>1.7</td>\n",
       "      <td>90.5</td>\n",
       "      <td>0</td>\n",
       "    </tr>\n",
       "    <tr>\n",
       "      <th>Squirtle</th>\n",
       "      <td>Water</td>\n",
       "      <td>NaN</td>\n",
       "      <td>0.5</td>\n",
       "      <td>9.0</td>\n",
       "      <td>0</td>\n",
       "    </tr>\n",
       "    <tr>\n",
       "      <th>Wartortle</th>\n",
       "      <td>Water</td>\n",
       "      <td>NaN</td>\n",
       "      <td>1.0</td>\n",
       "      <td>22.5</td>\n",
       "      <td>0</td>\n",
       "    </tr>\n",
       "    <tr>\n",
       "      <th>Blastoise</th>\n",
       "      <td>Water</td>\n",
       "      <td>NaN</td>\n",
       "      <td>1.6</td>\n",
       "      <td>85.5</td>\n",
       "      <td>0</td>\n",
       "    </tr>\n",
       "  </tbody>\n",
       "</table>\n",
       "</div>"
      ],
      "text/plain": [
       "           Type1   Type2  Height  Weight  Legendary\n",
       "Name                                               \n",
       "Charizard   Fire  Flying     1.7    90.5          0\n",
       "Squirtle   Water     NaN     0.5     9.0          0\n",
       "Wartortle  Water     NaN     1.0    22.5          0\n",
       "Blastoise  Water     NaN     1.6    85.5          0"
      ]
     },
     "execution_count": 124,
     "metadata": {},
     "output_type": "execute_result"
    }
   ],
   "source": [
    "df = pd.read_csv(\"pokemon.csv\", sep=\",\", index_col=\"No\")\n",
    "\n",
    "#selection by column\n",
    "df[[\"Name\",\"Height\",\"Weight\"]] #prints a df with columns name, height and weight\n",
    "\n",
    "#make a copy dataframe\n",
    "new_df = df[[\"Name\",\"Height\",\"Weight\"]].copy()\n",
    "new_df[\"Height\"] = new_df[\"Height\"]/10\n",
    "\n",
    "df.query(\"Name == 'Pikachu'\")[[\"Name\",\"Height\",\"Legendary\"]] #to find a spesific pokemon, use singel quotas\n",
    "\n",
    "#set name as index to show items inbetween\n",
    "df = df.set_index(\"Name\")\n",
    "df.loc[\"Charizard\":\"Blastoise\"]"
   ]
  },
  {
   "cell_type": "code",
   "execution_count": 125,
   "id": "1990adc1",
   "metadata": {},
   "outputs": [
    {
     "name": "stdout",
     "output_type": "stream",
     "text": [
      "Type1          Fire\n",
      "Type2        Flying\n",
      "Height          1.7\n",
      "Weight         90.5\n",
      "Legendary         0\n",
      "Name: Charizard, dtype: object\n"
     ]
    }
   ],
   "source": [
    "\n",
    "#search for a pokemon of choice\n",
    "prompt = input(\"What pokemon do you want?: \")\n",
    "try:\n",
    "    print(df.loc[prompt])\n",
    "except KeyError:\n",
    "    print(f\"pokemon {prompt} not found\")\n"
   ]
  },
  {
   "cell_type": "markdown",
   "id": "9d979c25",
   "metadata": {},
   "source": [
    "Filtering"
   ]
  },
  {
   "cell_type": "code",
   "execution_count": 144,
   "id": "71f5152d",
   "metadata": {},
   "outputs": [
    {
     "data": {
      "text/html": [
       "<div>\n",
       "<style scoped>\n",
       "    .dataframe tbody tr th:only-of-type {\n",
       "        vertical-align: middle;\n",
       "    }\n",
       "\n",
       "    .dataframe tbody tr th {\n",
       "        vertical-align: top;\n",
       "    }\n",
       "\n",
       "    .dataframe thead th {\n",
       "        text-align: right;\n",
       "    }\n",
       "</style>\n",
       "<table border=\"1\" class=\"dataframe\">\n",
       "  <thead>\n",
       "    <tr style=\"text-align: right;\">\n",
       "      <th></th>\n",
       "      <th>Type1</th>\n",
       "      <th>Type2</th>\n",
       "      <th>Height</th>\n",
       "      <th>Weight</th>\n",
       "      <th>Legendary</th>\n",
       "    </tr>\n",
       "    <tr>\n",
       "      <th>Name</th>\n",
       "      <th></th>\n",
       "      <th></th>\n",
       "      <th></th>\n",
       "      <th></th>\n",
       "      <th></th>\n",
       "    </tr>\n",
       "  </thead>\n",
       "  <tbody>\n",
       "    <tr>\n",
       "      <th>Charizard</th>\n",
       "      <td>Fire</td>\n",
       "      <td>Flying</td>\n",
       "      <td>1.7</td>\n",
       "      <td>90.5</td>\n",
       "      <td>0</td>\n",
       "    </tr>\n",
       "    <tr>\n",
       "      <th>Moltres</th>\n",
       "      <td>Fire</td>\n",
       "      <td>Flying</td>\n",
       "      <td>2.0</td>\n",
       "      <td>60.0</td>\n",
       "      <td>1</td>\n",
       "    </tr>\n",
       "  </tbody>\n",
       "</table>\n",
       "</div>"
      ],
      "text/plain": [
       "          Type1   Type2  Height  Weight  Legendary\n",
       "Name                                              \n",
       "Charizard  Fire  Flying     1.7    90.5          0\n",
       "Moltres    Fire  Flying     2.0    60.0          1"
      ]
     },
     "execution_count": 144,
     "metadata": {},
     "output_type": "execute_result"
    }
   ],
   "source": [
    "#keeping the rows mathcing a condition\n",
    "#df = df.query(\"Weight > 10\") #dropping rows with lower weigth\n",
    "tall_pokemon_df = df[df[\"Height\"]>2]\n",
    "heavy_pokemon_df = df[df[\"Weight\"]> 100]\n",
    "ledgendary_pokemon_df = df[df[\"Legendary\"]== True] #True == 1, could also write ==1\n",
    "df_extended = pd.concat([tall_pokemon_df, heavy_pokemon_df, ledgendary_pokemon_df]) #making a df with the new dataframes\n",
    "water_pokemon = df[(df[\"Type1\"]==\"Water\") | #| == or (it means or)\n",
    "                   (df[\"Type2\"]==\"Water\")\n",
    "                   ]\n",
    "ff_pokemon = df[(df[\"Type1\"]== \"Fire\") & \n",
    "                (df[\"Type2\"]==\"Flying\")\n",
    "                ]\n",
    "ff_pokemon\n"
   ]
  },
  {
   "cell_type": "markdown",
   "id": "45a5b7a6",
   "metadata": {},
   "source": [
    "Aggregation"
   ]
  },
  {
   "cell_type": "code",
   "execution_count": 156,
   "id": "65f7ae3b",
   "metadata": {},
   "outputs": [
    {
     "data": {
      "text/html": [
       "<div>\n",
       "<style scoped>\n",
       "    .dataframe tbody tr th:only-of-type {\n",
       "        vertical-align: middle;\n",
       "    }\n",
       "\n",
       "    .dataframe tbody tr th {\n",
       "        vertical-align: top;\n",
       "    }\n",
       "\n",
       "    .dataframe thead th {\n",
       "        text-align: right;\n",
       "    }\n",
       "</style>\n",
       "<table border=\"1\" class=\"dataframe\">\n",
       "  <thead>\n",
       "    <tr style=\"text-align: right;\">\n",
       "      <th></th>\n",
       "      <th>Type1</th>\n",
       "      <th>Type2</th>\n",
       "      <th>Height</th>\n",
       "      <th>Weight</th>\n",
       "      <th>Legendary</th>\n",
       "    </tr>\n",
       "    <tr>\n",
       "      <th>Name</th>\n",
       "      <th></th>\n",
       "      <th></th>\n",
       "      <th></th>\n",
       "      <th></th>\n",
       "      <th></th>\n",
       "    </tr>\n",
       "  </thead>\n",
       "  <tbody>\n",
       "    <tr>\n",
       "      <th>Onix</th>\n",
       "      <td>Rock</td>\n",
       "      <td>Ground</td>\n",
       "      <td>8.8</td>\n",
       "      <td>210.0</td>\n",
       "      <td>0</td>\n",
       "    </tr>\n",
       "  </tbody>\n",
       "</table>\n",
       "</div>"
      ],
      "text/plain": [
       "     Type1   Type2  Height  Weight  Legendary\n",
       "Name                                         \n",
       "Onix  Rock  Ground     8.8   210.0          0"
      ]
     },
     "execution_count": 156,
     "metadata": {},
     "output_type": "execute_result"
    }
   ],
   "source": [
    "#reduce a set of values into a single value. summerize and analyze data.\n",
    "#often used with the groupby() function\n",
    "#df.groupby([\"Height\"]).mean()\n",
    "df.mean(numeric_only=True) #finding the means of numeric values\n",
    "df.sum(numeric_only=True) #summing all the numbers\n",
    "df.median(numeric_only=True) #median values\n",
    "df.max(numeric_only=True) #max values\n",
    "df.query(\"Height == '8.8'\")\n",
    "df[df[\"Height\"]>8.7]\n",
    "\n"
   ]
  },
  {
   "cell_type": "code",
   "execution_count": null,
   "id": "c73dc5ca",
   "metadata": {},
   "outputs": [],
   "source": []
  }
 ],
 "metadata": {
  "kernelspec": {
   "display_name": "TECH2",
   "language": "python",
   "name": "python3"
  },
  "language_info": {
   "codemirror_mode": {
    "name": "ipython",
    "version": 3
   },
   "file_extension": ".py",
   "mimetype": "text/x-python",
   "name": "python",
   "nbconvert_exporter": "python",
   "pygments_lexer": "ipython3",
   "version": "3.13.5"
  }
 },
 "nbformat": 4,
 "nbformat_minor": 5
}
